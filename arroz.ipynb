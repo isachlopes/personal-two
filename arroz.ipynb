{
 "cells": [
  {
   "cell_type": "code",
   "execution_count": 289,
   "metadata": {},
   "outputs": [],
   "source": [
    "import geopandas as gpd\n",
    "import matplotlib.pyplot as plt\n",
    "import pandas as pd\n",
    "import openpyxl as opx"
   ]
  },
  {
   "cell_type": "code",
   "execution_count": 290,
   "metadata": {},
   "outputs": [],
   "source": [
    "area_colhida = pd.read_csv(\"C:/Git/personal-two/dados/area_colhida.csv\")\n",
    "area_plantada = pd.read_csv(\"C:/Git/personal-two/dados/area_plantada.csv\")\n",
    "quantidade_produzida = pd.read_csv(\"C:/Git/personal-two/dados/quantidade_produzida.csv\")\n",
    "rendimento_medio = pd.read_csv(\"C:/Git/personal-two/dados/rendimento_medio.csv\")\n",
    "valor_producao = pd.read_csv(\"C:/Git/personal-two/dados/valor_producao.csv\")"
   ]
  },
  {
   "cell_type": "code",
   "execution_count": 291,
   "metadata": {},
   "outputs": [],
   "source": [
    "for i in range(1974, 2011):\n",
    "    area_colhida.drop(f'/Agricultura/Culturas Tempor�rias/Arroz/�rea Colhida {i} (ha)', axis=1, inplace= True)\n",
    "    quantidade_produzida.drop(f'/Agricultura/Culturas Tempor�rias/Arroz/Quantidade Produzida {i} (t)', axis=1, inplace= True)\n",
    "    rendimento_medio.drop(f'/Agricultura/Culturas Tempor�rias/Arroz/Rendimento M�dio {i} (kg/ha)', axis=1, inplace= True)\n",
    "for i in range(1974, 1988):\n",
    "    area_plantada.drop(f'/Agricultura/Culturas Tempor�rias/Arroz/�rea Plantada {i} (-)', axis=1, inplace= True)\n",
    "for i in range(1988, 2011):\n",
    "    area_plantada.drop(f'/Agricultura/Culturas Tempor�rias/Arroz/�rea Plantada {i} (ha)', axis=1, inplace= True)\n",
    "for i in range(1974, 1994):\n",
    "    valor_producao.drop(f'/Agricultura/Culturas Tempor�rias/Arroz/Valor da Produ��o {i} (Cr$ mil)', axis=1, inplace= True)\n",
    "for i in range(1994, 2011):\n",
    "    valor_producao.drop(f'/Agricultura/Culturas Tempor�rias/Arroz/Valor da Produ��o {i} (R$ mil)', axis=1, inplace= True)\n",
    "\n",
    "for i in range(2011, 2022):\n",
    "    area_colhida.rename(columns= {f'/Agricultura/Culturas Tempor�rias/Arroz/�rea Colhida {i} (ha)': f'area_colhida_{i}'}, inplace= True)\n",
    "    quantidade_produzida.rename(columns= {f'/Agricultura/Culturas Tempor�rias/Arroz/Quantidade Produzida {i} (t)': f'quantidade_produzida_{i}'}, inplace= True)\n",
    "    area_plantada.rename(columns= {f'/Agricultura/Culturas Tempor�rias/Arroz/�rea Plantada {i} (ha)': f'area_plantada_{i}'}, inplace= True)\n",
    "    rendimento_medio.rename(columns= {f'/Agricultura/Culturas Tempor�rias/Arroz/Rendimento M�dio {i} (kg/ha)': f'rendimento_medio_{i}'}, inplace= True)\n",
    "    valor_producao.rename(columns= {f'/Agricultura/Culturas Tempor�rias/Arroz/Valor da Produ��o {i} (R$ mil)': f'valor_producao_{i}'}, inplace= True)"
   ]
  },
  {
   "cell_type": "code",
   "execution_count": 292,
   "metadata": {},
   "outputs": [],
   "source": [
    "planilhas = [valor_producao, area_colhida, area_plantada, quantidade_produzida, rendimento_medio]\n",
    "valor_producao.rename(columns= {f'ibge': f'CD_MUN'}, inplace= True)\n",
    "area_colhida.rename(columns= {f'ibge': f'CD_MUN'}, inplace= True)\n",
    "area_plantada.rename(columns= {f'ibge': f'CD_MUN'}, inplace= True)\n",
    "quantidade_produzida.rename(columns= {f'ibge': f'CD_MUN'}, inplace= True)\n",
    "rendimento_medio.rename(columns= {f'ibge': f'CD_MUN'}, inplace= True)"
   ]
  },
  {
   "cell_type": "code",
   "execution_count": 293,
   "metadata": {},
   "outputs": [],
   "source": [
    "municipios = gpd.read_file('C:\\Git\\personal-two\\consulta\\Sementeiras\\dados\\municipios_rs.json')\n",
    "municipios.drop([0,1], inplace= True, axis=0)\n",
    "municipios.to_csv('municipios_csv.csv', index=False)"
   ]
  },
  {
   "cell_type": "code",
   "execution_count": 294,
   "metadata": {},
   "outputs": [],
   "source": [
    "municipios_csv = pd.read_csv('C:/Git/personal-two/municipios_csv.csv')"
   ]
  },
  {
   "cell_type": "code",
   "execution_count": 295,
   "metadata": {},
   "outputs": [],
   "source": [
    "for x in planilhas:\n",
    "    x.sort_values(by='CD_MUN')"
   ]
  },
  {
   "cell_type": "code",
   "execution_count": 296,
   "metadata": {},
   "outputs": [],
   "source": [
    "municipios_csv = municipios_csv.merge(valor_producao, right_index= True, left_index= True)\n",
    "municipios_csv = municipios_csv.merge(area_plantada, right_index= True, left_index= True)\n",
    "municipios_csv = municipios_csv.merge(area_colhida, right_index= True, left_index= True, suffixes=['cod1', 'cod2'])\n",
    "municipios_csv = municipios_csv.merge(rendimento_medio, right_index= True, left_index= True, suffixes=['cod3', 'cod4'])\n",
    "municipios_csv = municipios_csv.merge(quantidade_produzida, right_index= True, left_index= True, suffixes=['cod5', 'cod6'])"
   ]
  },
  {
   "cell_type": "code",
   "execution_count": 297,
   "metadata": {},
   "outputs": [
    {
     "data": {
      "text/html": [
       "<div>\n",
       "<style scoped>\n",
       "    .dataframe tbody tr th:only-of-type {\n",
       "        vertical-align: middle;\n",
       "    }\n",
       "\n",
       "    .dataframe tbody tr th {\n",
       "        vertical-align: top;\n",
       "    }\n",
       "\n",
       "    .dataframe thead th {\n",
       "        text-align: right;\n",
       "    }\n",
       "</style>\n",
       "<table border=\"1\" class=\"dataframe\">\n",
       "  <thead>\n",
       "    <tr style=\"text-align: right;\">\n",
       "      <th></th>\n",
       "      <th>CD_MUN_x</th>\n",
       "      <th>NM_MUN</th>\n",
       "      <th>SIGLA</th>\n",
       "      <th>AREA_KM2</th>\n",
       "      <th>geometry</th>\n",
       "      <th>Munic�pio_x</th>\n",
       "      <th>CD_MUN_y</th>\n",
       "      <th>latitude_x</th>\n",
       "      <th>longitude_x</th>\n",
       "      <th>valor_producao_2011</th>\n",
       "      <th>...</th>\n",
       "      <th>quantidade_produzida_2012</th>\n",
       "      <th>quantidade_produzida_2013</th>\n",
       "      <th>quantidade_produzida_2014</th>\n",
       "      <th>quantidade_produzida_2015</th>\n",
       "      <th>quantidade_produzida_2016</th>\n",
       "      <th>quantidade_produzida_2017</th>\n",
       "      <th>quantidade_produzida_2018</th>\n",
       "      <th>quantidade_produzida_2019</th>\n",
       "      <th>quantidade_produzida_2020</th>\n",
       "      <th>quantidade_produzida_2021</th>\n",
       "    </tr>\n",
       "  </thead>\n",
       "  <tbody>\n",
       "    <tr>\n",
       "      <th>0</th>\n",
       "      <td>4300034</td>\n",
       "      <td>Aceguá</td>\n",
       "      <td>RS</td>\n",
       "      <td>1551.339</td>\n",
       "      <td>POLYGON ((-54.10841609899998 -31.4327519699999...</td>\n",
       "      <td>Acegu�</td>\n",
       "      <td>4300034</td>\n",
       "      <td>-31.86076</td>\n",
       "      <td>-54.16706</td>\n",
       "      <td>35.221</td>\n",
       "      <td>...</td>\n",
       "      <td>37.908</td>\n",
       "      <td>72.000</td>\n",
       "      <td>80.750</td>\n",
       "      <td>85.230</td>\n",
       "      <td>56.000</td>\n",
       "      <td>87.159</td>\n",
       "      <td>73.275</td>\n",
       "      <td>65.167</td>\n",
       "      <td>65.167</td>\n",
       "      <td>66.391</td>\n",
       "    </tr>\n",
       "  </tbody>\n",
       "</table>\n",
       "<p>1 rows × 80 columns</p>\n",
       "</div>"
      ],
      "text/plain": [
       "   CD_MUN_x  NM_MUN SIGLA  AREA_KM2  \\\n",
       "0   4300034  Aceguá    RS  1551.339   \n",
       "\n",
       "                                            geometry Munic�pio_x  CD_MUN_y  \\\n",
       "0  POLYGON ((-54.10841609899998 -31.4327519699999...      Acegu�   4300034   \n",
       "\n",
       "   latitude_x  longitude_x valor_producao_2011  ... quantidade_produzida_2012  \\\n",
       "0   -31.86076    -54.16706              35.221  ...                    37.908   \n",
       "\n",
       "  quantidade_produzida_2013 quantidade_produzida_2014  \\\n",
       "0                    72.000                    80.750   \n",
       "\n",
       "  quantidade_produzida_2015 quantidade_produzida_2016  \\\n",
       "0                    85.230                    56.000   \n",
       "\n",
       "  quantidade_produzida_2017 quantidade_produzida_2018  \\\n",
       "0                    87.159                    73.275   \n",
       "\n",
       "  quantidade_produzida_2019 quantidade_produzida_2020  \\\n",
       "0                    65.167                    65.167   \n",
       "\n",
       "  quantidade_produzida_2021  \n",
       "0                    66.391  \n",
       "\n",
       "[1 rows x 80 columns]"
      ]
     },
     "execution_count": 297,
     "metadata": {},
     "output_type": "execute_result"
    }
   ],
   "source": [
    "municipios_csv.head(1)"
   ]
  },
  {
   "cell_type": "code",
   "execution_count": 298,
   "metadata": {},
   "outputs": [],
   "source": [
    "municipios_csv.drop(columns=['SIGLA', 'Munic�pio_x',\n",
    "       'CD_MUN_y', 'Munic�pio_y', 'CD_MUNcod1', 'latitude_y',\n",
    "       'longitude_y', 'Munic�piocod3', 'CD_MUNcod2', 'latitudecod3', 'longitudecod3', 'Munic�piocod4', 'CD_MUNcod5',\n",
    "       'latitudecod4', 'longitudecod4', 'Munic�pio',\n",
    "       'CD_MUNcod6', 'latitude', 'longitude'], inplace= True)"
   ]
  },
  {
   "cell_type": "code",
   "execution_count": 299,
   "metadata": {},
   "outputs": [
    {
     "data": {
      "text/plain": [
       "Index(['CD_MUN_x', 'NM_MUN', 'AREA_KM2', 'geometry', 'latitude_x',\n",
       "       'longitude_x', 'valor_producao_2011', 'valor_producao_2012',\n",
       "       'valor_producao_2013', 'valor_producao_2014', 'valor_producao_2015',\n",
       "       'valor_producao_2016', 'valor_producao_2017', 'valor_producao_2018',\n",
       "       'valor_producao_2019', 'valor_producao_2020', 'valor_producao_2021',\n",
       "       'area_plantada_2011', 'area_plantada_2012', 'area_plantada_2013',\n",
       "       'area_plantada_2014', 'area_plantada_2015', 'area_plantada_2016',\n",
       "       'area_plantada_2017', 'area_plantada_2018', 'area_plantada_2019',\n",
       "       'area_plantada_2020', 'area_plantada_2021', 'area_colhida_2011',\n",
       "       'area_colhida_2012', 'area_colhida_2013', 'area_colhida_2014',\n",
       "       'area_colhida_2015', 'area_colhida_2016', 'area_colhida_2017',\n",
       "       'area_colhida_2018', 'area_colhida_2019', 'area_colhida_2020',\n",
       "       'area_colhida_2021', 'rendimento_medio_2011', 'rendimento_medio_2012',\n",
       "       'rendimento_medio_2013', 'rendimento_medio_2014',\n",
       "       'rendimento_medio_2015', 'rendimento_medio_2016',\n",
       "       'rendimento_medio_2017', 'rendimento_medio_2018',\n",
       "       'rendimento_medio_2019', 'rendimento_medio_2020',\n",
       "       'rendimento_medio_2021', 'quantidade_produzida_2011',\n",
       "       'quantidade_produzida_2012', 'quantidade_produzida_2013',\n",
       "       'quantidade_produzida_2014', 'quantidade_produzida_2015',\n",
       "       'quantidade_produzida_2016', 'quantidade_produzida_2017',\n",
       "       'quantidade_produzida_2018', 'quantidade_produzida_2019',\n",
       "       'quantidade_produzida_2020', 'quantidade_produzida_2021'],\n",
       "      dtype='object')"
      ]
     },
     "execution_count": 299,
     "metadata": {},
     "output_type": "execute_result"
    }
   ],
   "source": [
    "municipios_csv.columns"
   ]
  }
 ],
 "metadata": {
  "kernelspec": {
   "display_name": "base",
   "language": "python",
   "name": "python3"
  },
  "language_info": {
   "codemirror_mode": {
    "name": "ipython",
    "version": 3
   },
   "file_extension": ".py",
   "mimetype": "text/x-python",
   "name": "python",
   "nbconvert_exporter": "python",
   "pygments_lexer": "ipython3",
   "version": "3.11.5"
  }
 },
 "nbformat": 4,
 "nbformat_minor": 2
}
